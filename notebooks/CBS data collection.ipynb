{
 "cells": [
  {
   "cell_type": "code",
   "execution_count": 1,
   "id": "71fe67e4",
   "metadata": {},
   "outputs": [],
   "source": [
    "import os\n",
    "import sys\n",
    "module_path = os.path.abspath(os.path.join('..'))\n",
    "if module_path not in sys.path:\n",
    "    sys.path.append(module_path)"
   ]
  },
  {
   "cell_type": "code",
   "execution_count": 2,
   "id": "508a9e8f",
   "metadata": {},
   "outputs": [],
   "source": [
    "import cbsodata\n",
    "import pandas as pd\n",
    "import psycopg2\n"
   ]
  },
  {
   "cell_type": "code",
   "execution_count": 3,
   "id": "6a34341e",
   "metadata": {},
   "outputs": [
    {
     "name": "stdout",
     "output_type": "stream",
     "text": [
      "psycopg2 connection: <connection object at 0x000002DC3BA56D00; dsn: 'user=kiufnyzelvojho password=xxx dbname=de49s33kdavj49 host=ec2-176-34-105-15.eu-west-1.compute.amazonaws.com', closed: 0>\n"
     ]
    }
   ],
   "source": [
    "from data.pg_connect import conn"
   ]
  },
  {
   "cell_type": "code",
   "execution_count": 6,
   "id": "925a6575",
   "metadata": {},
   "outputs": [],
   "source": [
    "table_code = '81734NED'"
   ]
  },
  {
   "cell_type": "code",
   "execution_count": 7,
   "id": "401ed5a9",
   "metadata": {},
   "outputs": [
    {
     "data": {
      "text/plain": [
       "'Tussen gemeenten verhuisde personen'"
      ]
     },
     "execution_count": 7,
     "metadata": {},
     "output_type": "execute_result"
    }
   ],
   "source": [
    "info = cbsodata.get_info(table_code)\n",
    "info['Title']"
   ]
  },
  {
   "cell_type": "markdown",
   "id": "a8d5f981",
   "metadata": {},
   "source": [
    "Get geodata "
   ]
  },
  {
   "cell_type": "code",
   "execution_count": 8,
   "id": "77923b2d",
   "metadata": {},
   "outputs": [],
   "source": [
    "data = pd.DataFrame(cbsodata.get_data(table_code))"
   ]
  },
  {
   "cell_type": "code",
   "execution_count": 14,
   "id": "f63f3d6d",
   "metadata": {},
   "outputs": [
    {
     "data": {
      "text/plain": [
       "2223081"
      ]
     },
     "execution_count": 14,
     "metadata": {},
     "output_type": "execute_result"
    }
   ],
   "source": [
    "len(data)"
   ]
  },
  {
   "cell_type": "code",
   "execution_count": null,
   "id": "b9d4f70b",
   "metadata": {},
   "outputs": [],
   "source": [
    "def single_insert(conn, insert_req):\n",
    "    \"\"\" Execute a single INSERT request \"\"\"\n",
    "    cursor = conn.cursor()\n",
    "    try:\n",
    "        cursor.execute(insert_req)\n",
    "        conn.commit()\n",
    "    except (Exception, psycopg2.DatabaseError) as error:\n",
    "        print(\"Error: %s\" % error)\n",
    "        conn.rollback()\n",
    "        cursor.close()\n",
    "        return 1\n",
    "    cursor.close()\n",
    "# Connecting to the database\n",
    "conn = connect(param_dic)\n",
    "# Inserting each row\n",
    "for i in dataframe.index:\n",
    "    query = \"\"\"\n",
    "    INSERT into emissions(column1, column2, column3) values('%s',%s,%s);\n",
    "    \"\"\" % (dataframe['column1'], dataframe['column2'], dataframe['column3'])\n",
    "    single_insert(conn, query)\n",
    "# Close the connection\n",
    "conn.close()"
   ]
  },
  {
   "cell_type": "code",
   "execution_count": 27,
   "id": "f22dd525",
   "metadata": {},
   "outputs": [
    {
     "ename": "IndentationError",
     "evalue": "unexpected indent (<ipython-input-27-987b65b0bd63>, line 29)",
     "output_type": "error",
     "traceback": [
      "\u001b[1;36m  File \u001b[1;32m\"<ipython-input-27-987b65b0bd63>\"\u001b[1;36m, line \u001b[1;32m29\u001b[0m\n\u001b[1;33m    city varchar(80),\u001b[0m\n\u001b[1;37m    ^\u001b[0m\n\u001b[1;31mIndentationError\u001b[0m\u001b[1;31m:\u001b[0m unexpected indent\n"
     ]
    }
   ],
   "source": [
    "def get_psql_tables(conn):\n",
    "    \"\"\" Returns all tables in the database. \"\"\"\n",
    "    tables = []\n",
    "    table_query = \"SELECT table_name FROM information_schema.tables WHERE table_schema='public'\"\n",
    "    tab_cursor = conn.cursor()\n",
    "    try:\n",
    "        tab_cursor.execute( table_query )\n",
    "        tab_names = tab_cursor.fetchall()\n",
    "        # iterate list of tuples and grab first element\n",
    "        for tup in tab_names:\n",
    "            tables += [tup[0]]\n",
    "        # close the cursor object to prevent memory leaks\n",
    "        tab_cursor.close()\n",
    "\n",
    "    except Exception as err:\n",
    "        print (\"get_psql_tables ERROR:\", err)\n",
    "        \n",
    "    return tables\n",
    "        \n",
    "           \n",
    "def df_to_psql(conn, df, name):\n",
    "    \"\"\" Creates a table in the PostgresQL database from the dataframe. \"\"\"\n",
    "\n",
    "    \n",
    "    if name in get_psql_tables(conn=conn):\n",
    "        print('table already exists. ')\n",
    "        return 0\n",
    "    \n",
    "    query = \"CREATE TABLE weather (\"\n",
    "    \n",
    "    for col in df.columns:\n",
    "        query += \"{_name} {_type}\".format(_name=col, _type=)\n",
    "     city varchar(80),\n",
    "     temp_lo int, -- low temperature\n",
    "     temp_hi int, -- high temperature\n",
    "     prcp real, -- precipitation\n",
    "     date date\n",
    "    );"
   ]
  },
  {
   "cell_type": "code",
   "execution_count": 28,
   "id": "25cdc7dd",
   "metadata": {},
   "outputs": [
    {
     "ename": "TypeError",
     "evalue": "'Series' object is not callable",
     "output_type": "error",
     "traceback": [
      "\u001b[1;31m---------------------------------------------------------------------------\u001b[0m",
      "\u001b[1;31mTypeError\u001b[0m                                 Traceback (most recent call last)",
      "\u001b[1;32m<ipython-input-28-e265660bf664>\u001b[0m in \u001b[0;36m<module>\u001b[1;34m\u001b[0m\n\u001b[1;32m----> 1\u001b[1;33m \u001b[0mdata\u001b[0m\u001b[1;33m.\u001b[0m\u001b[0mdtypes\u001b[0m\u001b[1;33m(\u001b[0m\u001b[1;33m)\u001b[0m\u001b[1;33m\u001b[0m\u001b[1;33m\u001b[0m\u001b[0m\n\u001b[0m",
      "\u001b[1;31mTypeError\u001b[0m: 'Series' object is not callable"
     ]
    }
   ],
   "source": [
    "data.dtypes()"
   ]
  },
  {
   "cell_type": "code",
   "execution_count": 33,
   "id": "87b78c7b",
   "metadata": {},
   "outputs": [
    {
     "data": {
      "text/plain": [
       "pandas.core.frame.DataFrame"
      ]
     },
     "execution_count": 33,
     "metadata": {},
     "output_type": "execute_result"
    }
   ],
   "source": [
    "type(data)"
   ]
  },
  {
   "cell_type": "code",
   "execution_count": 38,
   "id": "ae3771c5",
   "metadata": {},
   "outputs": [
    {
     "data": {
      "text/plain": [
       "ID                                            0\n",
       "RegioVanVestiging                     Nederland\n",
       "RegioVanVertrek                       Nederland\n",
       "Perioden                                   2011\n",
       "TussenGemeentenVerhuisdePersonen_1     593721.0\n",
       "Name: 0, dtype: object"
      ]
     },
     "execution_count": 38,
     "metadata": {},
     "output_type": "execute_result"
    }
   ],
   "source": [
    "data.iloc[0]"
   ]
  },
  {
   "cell_type": "code",
   "execution_count": 5,
   "id": "95032b03",
   "metadata": {},
   "outputs": [
    {
     "data": {
      "text/plain": [
       "[]"
      ]
     },
     "execution_count": 5,
     "metadata": {},
     "output_type": "execute_result"
    }
   ],
   "source": [
    "query = \"SELECT * FROM weather\"\n",
    "cursor = conn.cursor()\n",
    "cursor.execute(query)\n",
    "cursor.fetchall()"
   ]
  },
  {
   "cell_type": "code",
   "execution_count": null,
   "id": "02be3a4a",
   "metadata": {},
   "outputs": [],
   "source": []
  }
 ],
 "metadata": {
  "kernelspec": {
   "display_name": "Python 3",
   "language": "python",
   "name": "python3"
  },
  "language_info": {
   "codemirror_mode": {
    "name": "ipython",
    "version": 3
   },
   "file_extension": ".py",
   "mimetype": "text/x-python",
   "name": "python",
   "nbconvert_exporter": "python",
   "pygments_lexer": "ipython3",
   "version": "3.9.0"
  }
 },
 "nbformat": 4,
 "nbformat_minor": 5
}
