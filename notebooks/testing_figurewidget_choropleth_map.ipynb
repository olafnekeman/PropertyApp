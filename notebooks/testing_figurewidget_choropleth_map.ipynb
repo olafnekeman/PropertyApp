{
 "cells": [
  {
   "cell_type": "code",
   "execution_count": 1,
   "id": "2f615aff",
   "metadata": {},
   "outputs": [],
   "source": [
    "import os\n",
    "import sys\n",
    "module_path = os.path.abspath(os.path.join('..'))\n",
    "if module_path not in sys.path:\n",
    "    sys.path.append(module_path)"
   ]
  },
  {
   "cell_type": "code",
   "execution_count": 2,
   "id": "6c45d52a",
   "metadata": {},
   "outputs": [],
   "source": [
    "import plotly.graph_objects as go\n",
    "import json\n",
    "import plotly.express as px\n",
    "\n",
    "from data.interface import data\n",
    "from support.constants import BASEPATH\n",
    "from ui.runtime_vars import RuntimeVars\n",
    "from ui.choromap import ChoroMap"
   ]
  },
  {
   "cell_type": "code",
   "execution_count": null,
   "id": "c39afeb3",
   "metadata": {},
   "outputs": [],
   "source": []
  },
  {
   "cell_type": "code",
   "execution_count": 3,
   "id": "acd11e5e",
   "metadata": {},
   "outputs": [],
   "source": [
    "rvars = RuntimeVars()\n",
    "rvars.selections.add(\"GM0503\")\n",
    "rvars.selections.add(\"GM0505\")\n",
    "\n",
    "choromap = ChoroMap(runtime_vars=rvars)\n"
   ]
  },
  {
   "cell_type": "code",
   "execution_count": 12,
   "id": "0fa66d61",
   "metadata": {},
   "outputs": [],
   "source": [
    "\"\"\" This file holds the choropleth map and its functions. \"\"\"\n",
    "\n",
    "import json\n",
    "import plotly.express as px\n",
    "import plotly.graph_objects as go\n",
    "\n",
    "from data.interface import data\n",
    "from support.constants import BASEPATH\n",
    "from ui.runtime_vars import RuntimeVars\n",
    "\n",
    "\n",
    "class ChoroMap:\n",
    "    def __init__(self, runtime_vars: RuntimeVars):\n",
    "        self.vars = runtime_vars\n",
    "        self.__year = self.vars.year\n",
    "        self.__geo_json = self.get_geojson(year=self.vars.year)\n",
    "        self.__data = data.data_by_county(year=self.vars.year)\n",
    "        self.__district_lookup = self.get_district_lookup()\n",
    "        self.fig = go.FigureWidget(px.choropleth_mapbox())\n",
    "        self.fig.update_layout(mapbox_style=\"carto-positron\",\n",
    "                          mapbox_zoom=6,\n",
    "                          mapbox_center={\"lat\": 52.09, \"lon\": 5.12},\n",
    "                          margin={\"r\": 0, \"t\": 0, \"l\": 0, \"b\": 0},\n",
    "                          uirevision='constant')\n",
    "\n",
    "    @property\n",
    "    def year(self):\n",
    "        return self.__year\n",
    "\n",
    "    @year.setter\n",
    "    def year(self, val: int):\n",
    "        self.__geo_json = self.get_geojson(year=val)\n",
    "        self.__data = data.data_by_county(year=val)\n",
    "        self.__district_lookup = self.get_district_lookup()\n",
    "\n",
    "    @property\n",
    "    def geo_json(self):\n",
    "        return self.__geo_json\n",
    "\n",
    "    @property\n",
    "    def data(self):\n",
    "        return self.__data\n",
    "\n",
    "    def get_district_lookup(self):\n",
    "        return {feature['properties']['statcode']: feature for feature in\n",
    "                self.__geo_json['features']}\n",
    "\n",
    "    def get_geojson(self, year: int):\n",
    "        fp = BASEPATH + \"/data/geodata/gemeentegrenzen_{}.geojson\".format(\n",
    "            year)\n",
    "        with open(fp) as f:\n",
    "            geo_json = json.load(f)\n",
    "        return geo_json\n",
    "\n",
    "    @property\n",
    "    def district_lookup(self):\n",
    "        \"\"\" Prepare a lookup dictionary for selecting highlight areas in\n",
    "        geojson. \"\"\"\n",
    "        return self.__district_lookup\n",
    "\n",
    "    def update_map_data(self):\n",
    "        \"\"\" Sets the year and variable on the map. \"\"\"\n",
    "        self.fig.data = ()\n",
    "        self.fig.add_choroplethmapbox(\n",
    "            geojson=self.geo_json,\n",
    "            z=self.data[self.vars.map_var],\n",
    "            locations=self.data[\"KoppelvariabeleRegioCode_306\"],\n",
    "            featureidkey=\"properties.statcode\",\n",
    "            marker=dict(opacity=0.3)\n",
    "        )\n",
    "        self.update_selection()\n",
    "\n",
    "    def update_selection(self):\n",
    "        \"\"\" Changes the selection of counties on the map. \"\"\"\n",
    "        if len(self.vars.selections) > 0:\n",
    "            # highlights contain the geojson information for only\n",
    "            # the selected districts\n",
    "            highlights = self.get_highlights()\n",
    "            if len(self.fig.data) > 1:\n",
    "                self.fig.data = tuple([self.fig.data[0]])\n",
    "            self.fig.add_choroplethmapbox(\n",
    "                geojson=highlights,\n",
    "                z=self.data[self.vars.map_var],\n",
    "                locations=self.data[\"KoppelvariabeleRegioCode_306\"],\n",
    "                featureidkey=\"properties.statcode\",\n",
    "                marker=dict(opacity=0.8)\n",
    "            )\n",
    "\n",
    "\n",
    "    def get_map(self):\n",
    "        \"\"\" Returns a choropleth map of the netherlands with the specified\n",
    "        data. \"\"\"\n",
    "        self.year = self.vars.year\n",
    "\n",
    "        # Base choropleth layer --------------#\n",
    "        fig = px.choropleth_mapbox(self.data, geojson=self.geo_json,\n",
    "                                   color=self.vars.map_var,\n",
    "                                   locations=\"KoppelvariabeleRegioCode_306\",\n",
    "                                   featureidkey=\"properties.statcode\",\n",
    "                                   opacity=0.5)\n",
    "\n",
    "        # Second layer - Highlights ----------#\n",
    "        if len(self.vars.selections) > 0:\n",
    "            # highlights contain the geojson information for only\n",
    "            # the selected districts\n",
    "            highlights = self.get_highlights()\n",
    "\n",
    "            fig.add_trace(\n",
    "                px.choropleth_mapbox(self.data, geojson=highlights,\n",
    "                                     color=self.vars.map_var,\n",
    "                                     locations=\"KoppelvariabeleRegioCode_306\",\n",
    "                                     featureidkey=\"properties.statcode\",\n",
    "                                     opacity=1).data[0]\n",
    "            )\n",
    "\n",
    "        # ------------------------------------#\n",
    "        fig.update_layout(mapbox_style=\"carto-positron\",\n",
    "                          mapbox_zoom=6,\n",
    "                          mapbox_center={\"lat\": 52.09, \"lon\": 5.12},\n",
    "                          margin={\"r\": 0, \"t\": 0, \"l\": 0, \"b\": 0},\n",
    "                          uirevision='constant')\n",
    "        customdata_df = self.data[['TotaleBevolking_1',\n",
    "                                   'GemiddeldeWoningwaarde_99']].copy()\n",
    "        customdata_df['Gemeente'] = customdata_df.index\n",
    "        fig.update_traces(customdata=customdata_df,\n",
    "                          hovertemplate=\"Gemeente: %{customdata[2]}<br>\" +\n",
    "                                        \"Inwoners: %{customdata[0]}<br>\" + \\\n",
    "                                        \"Gem. Woningwaarde: %{customdata[1]}<extra></extra>\")\n",
    "\n",
    "        return fig\n",
    "\n",
    "    # function to get the geojson file for highlighted area\n",
    "    def get_highlights(self):\n",
    "        geojson_highlights = dict()\n",
    "        for k in self.geo_json.keys():\n",
    "            if k != 'features':\n",
    "                geojson_highlights[k] = self.geo_json[k]\n",
    "            else:\n",
    "                geojson_highlights[k] = [self.district_lookup[selection] for\n",
    "                                         selection\n",
    "                                         in self.vars.selections]\n",
    "        return geojson_highlights\n",
    "\n",
    "\n",
    "if __name__ == \"__main__\":\n",
    "    rvars = RuntimeVars()\n",
    "    rvars.selections.add(\"GM0503\")\n",
    "    rvars.selections.add(\"GM0505\")\n",
    "\n",
    "    choromap = ChoroMap(runtime_vars=rvars)\n",
    "    choromap.update_map_data()\n"
   ]
  },
  {
   "cell_type": "code",
   "execution_count": 13,
   "id": "f40c3936",
   "metadata": {},
   "outputs": [
    {
     "data": {
      "application/vnd.jupyter.widget-view+json": {
       "model_id": "640c35db702c406483ff40b916c81b64",
       "version_major": 2,
       "version_minor": 0
      },
      "text/plain": [
       "FigureWidget({\n",
       "    'data': [{'featureidkey': 'properties.statcode',\n",
       "              'geojson': {'features': [{'g…"
      ]
     },
     "metadata": {},
     "output_type": "display_data"
    }
   ],
   "source": [
    "choromap.fig"
   ]
  },
  {
   "cell_type": "code",
   "execution_count": 10,
   "id": "7692fddf",
   "metadata": {},
   "outputs": [
    {
     "data": {
      "application/vnd.jupyter.widget-view+json": {
       "model_id": "14a92fbc4a60428591f066a030cd989f",
       "version_major": 2,
       "version_minor": 0
      },
      "text/plain": [
       "FigureWidget({\n",
       "    'data': [],\n",
       "    'layout': {'legend': {'tracegroupgap': 0},\n",
       "               'mapbox': {'cente…"
      ]
     },
     "metadata": {},
     "output_type": "display_data"
    }
   ],
   "source": [
    "fig = go.FigureWidget(px.choropleth_mapbox())\n",
    "fig.update_layout(mapbox_style=\"carto-positron\",\n",
    "                  mapbox_zoom=6,\n",
    "                  mapbox_center={\"lat\": 52.09, \"lon\": 5.12},\n",
    "                  margin={\"r\": 0, \"t\": 0, \"l\": 0, \"b\": 0},\n",
    "                  uirevision='constant')"
   ]
  },
  {
   "cell_type": "code",
   "execution_count": 11,
   "id": "cd7dc905",
   "metadata": {},
   "outputs": [],
   "source": [
    "self = choromap\n",
    "self.year = self.vars.year\n",
    "\n",
    "# Base choropleth layer --------------#\n",
    "t = fig.add_choroplethmapbox(geojson=self.geo_json,\n",
    "                           z=self.data[self.vars.map_var],\n",
    "                           locations=self.data[\"KoppelvariabeleRegioCode_306\"],\n",
    "                           featureidkey=\"properties.statcode\",\n",
    "                           marker=dict(opacity=0.3)\n",
    "                        )"
   ]
  },
  {
   "cell_type": "code",
   "execution_count": 93,
   "id": "8f0ead75",
   "metadata": {},
   "outputs": [],
   "source": [
    "highlights = self.get_highlights()"
   ]
  },
  {
   "cell_type": "code",
   "execution_count": 104,
   "id": "b8fe5e08",
   "metadata": {},
   "outputs": [],
   "source": [
    "t2 = fig.add_choroplethmapbox(geojson=highlights,\n",
    "                         z=self.data[self.vars.map_var],\n",
    "                           locations=self.data[\"KoppelvariabeleRegioCode_306\"],\n",
    "                              featureidkey=\"properties.statcode\",\n",
    "                           marker=dict(opacity=0.3))\n"
   ]
  },
  {
   "cell_type": "code",
   "execution_count": 95,
   "id": "cfa4838f",
   "metadata": {},
   "outputs": [
    {
     "data": {
      "text/plain": [
       "2"
      ]
     },
     "execution_count": 95,
     "metadata": {},
     "output_type": "execute_result"
    }
   ],
   "source": [
    "len(fig.data)"
   ]
  },
  {
   "cell_type": "code",
   "execution_count": 98,
   "id": "aaca5867",
   "metadata": {},
   "outputs": [
    {
     "ename": "ValueError",
     "evalue": "The data property of a figure may only be assigned \na list or tuple that contains a permutation of a subset of itself.\n    Received element value of type <class 'str'>",
     "output_type": "error",
     "traceback": [
      "\u001b[1;31m---------------------------------------------------------------------------\u001b[0m",
      "\u001b[1;31mValueError\u001b[0m                                Traceback (most recent call last)",
      "\u001b[1;32m<ipython-input-98-4de4c000cea1>\u001b[0m in \u001b[0;36m<module>\u001b[1;34m\u001b[0m\n\u001b[1;32m----> 1\u001b[1;33m \u001b[0mfig\u001b[0m\u001b[1;33m.\u001b[0m\u001b[0mdata\u001b[0m \u001b[1;33m=\u001b[0m \u001b[0mtuple\u001b[0m\u001b[1;33m(\u001b[0m\u001b[0mlist\u001b[0m\u001b[1;33m(\u001b[0m\u001b[0mfig\u001b[0m\u001b[1;33m.\u001b[0m\u001b[0mdata\u001b[0m\u001b[1;33m[\u001b[0m\u001b[1;36m0\u001b[0m\u001b[1;33m]\u001b[0m\u001b[1;33m)\u001b[0m\u001b[1;33m)\u001b[0m\u001b[1;33m\u001b[0m\u001b[1;33m\u001b[0m\u001b[0m\n\u001b[0m",
      "\u001b[1;32mc:\\users\\olafn\\pycharmprojects\\propertyapp\\venv\\lib\\site-packages\\plotly\\basedatatypes.py\u001b[0m in \u001b[0;36m__setattr__\u001b[1;34m(self, prop, value)\u001b[0m\n\u001b[0;32m    719\u001b[0m         \u001b[1;32mif\u001b[0m \u001b[0mprop\u001b[0m\u001b[1;33m.\u001b[0m\u001b[0mstartswith\u001b[0m\u001b[1;33m(\u001b[0m\u001b[1;34m\"_\"\u001b[0m\u001b[1;33m)\u001b[0m \u001b[1;32mor\u001b[0m \u001b[0mhasattr\u001b[0m\u001b[1;33m(\u001b[0m\u001b[0mself\u001b[0m\u001b[1;33m,\u001b[0m \u001b[0mprop\u001b[0m\u001b[1;33m)\u001b[0m\u001b[1;33m:\u001b[0m\u001b[1;33m\u001b[0m\u001b[1;33m\u001b[0m\u001b[0m\n\u001b[0;32m    720\u001b[0m             \u001b[1;31m# Let known properties and private properties through\u001b[0m\u001b[1;33m\u001b[0m\u001b[1;33m\u001b[0m\u001b[1;33m\u001b[0m\u001b[0m\n\u001b[1;32m--> 721\u001b[1;33m             \u001b[0msuper\u001b[0m\u001b[1;33m(\u001b[0m\u001b[0mBaseFigure\u001b[0m\u001b[1;33m,\u001b[0m \u001b[0mself\u001b[0m\u001b[1;33m)\u001b[0m\u001b[1;33m.\u001b[0m\u001b[0m__setattr__\u001b[0m\u001b[1;33m(\u001b[0m\u001b[0mprop\u001b[0m\u001b[1;33m,\u001b[0m \u001b[0mvalue\u001b[0m\u001b[1;33m)\u001b[0m\u001b[1;33m\u001b[0m\u001b[1;33m\u001b[0m\u001b[0m\n\u001b[0m\u001b[0;32m    722\u001b[0m         \u001b[1;32melse\u001b[0m\u001b[1;33m:\u001b[0m\u001b[1;33m\u001b[0m\u001b[1;33m\u001b[0m\u001b[0m\n\u001b[0;32m    723\u001b[0m             \u001b[1;31m# Raise error on unknown public properties\u001b[0m\u001b[1;33m\u001b[0m\u001b[1;33m\u001b[0m\u001b[1;33m\u001b[0m\u001b[0m\n",
      "\u001b[1;32mc:\\users\\olafn\\pycharmprojects\\propertyapp\\venv\\lib\\site-packages\\plotly\\basedatatypes.py\u001b[0m in \u001b[0;36mdata\u001b[1;34m(self, new_data)\u001b[0m\n\u001b[0;32m    992\u001b[0m                     \u001b[1;33m+\u001b[0m \u001b[1;34m\"    Received element value of type {typ}\"\u001b[0m\u001b[1;33m.\u001b[0m\u001b[0mformat\u001b[0m\u001b[1;33m(\u001b[0m\u001b[0mtyp\u001b[0m\u001b[1;33m=\u001b[0m\u001b[0mtype\u001b[0m\u001b[1;33m(\u001b[0m\u001b[0mtrace\u001b[0m\u001b[1;33m)\u001b[0m\u001b[1;33m)\u001b[0m\u001b[1;33m\u001b[0m\u001b[1;33m\u001b[0m\u001b[0m\n\u001b[0;32m    993\u001b[0m                 )\n\u001b[1;32m--> 994\u001b[1;33m                 \u001b[1;32mraise\u001b[0m \u001b[0mValueError\u001b[0m\u001b[1;33m(\u001b[0m\u001b[0merr_msg\u001b[0m\u001b[1;33m)\u001b[0m\u001b[1;33m\u001b[0m\u001b[1;33m\u001b[0m\u001b[0m\n\u001b[0m\u001b[0;32m    995\u001b[0m \u001b[1;33m\u001b[0m\u001b[0m\n\u001b[0;32m    996\u001b[0m         \u001b[1;31m# ### Check trace objects ###\u001b[0m\u001b[1;33m\u001b[0m\u001b[1;33m\u001b[0m\u001b[1;33m\u001b[0m\u001b[0m\n",
      "\u001b[1;31mValueError\u001b[0m: The data property of a figure may only be assigned \na list or tuple that contains a permutation of a subset of itself.\n    Received element value of type <class 'str'>"
     ]
    }
   ],
   "source": [
    "fig.data = tuple(list(fig.data[0]))"
   ]
  },
  {
   "cell_type": "code",
   "execution_count": 103,
   "id": "b179fe05",
   "metadata": {},
   "outputs": [],
   "source": [
    "fig.data = tuple([fig.data[0]])"
   ]
  },
  {
   "cell_type": "code",
   "execution_count": null,
   "id": "779942b8",
   "metadata": {},
   "outputs": [],
   "source": []
  }
 ],
 "metadata": {
  "kernelspec": {
   "display_name": "Python 3",
   "language": "python",
   "name": "python3"
  },
  "language_info": {
   "codemirror_mode": {
    "name": "ipython",
    "version": 3
   },
   "file_extension": ".py",
   "mimetype": "text/x-python",
   "name": "python",
   "nbconvert_exporter": "python",
   "pygments_lexer": "ipython3",
   "version": "3.9.0"
  }
 },
 "nbformat": 4,
 "nbformat_minor": 5
}
