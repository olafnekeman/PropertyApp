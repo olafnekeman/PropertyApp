{
 "cells": [
  {
   "cell_type": "code",
   "execution_count": 2,
   "id": "c71343b2",
   "metadata": {},
   "outputs": [],
   "source": [
    "import os\n",
    "import sys\n",
    "module_path = os.path.abspath(os.path.join('..'))\n",
    "if module_path not in sys.path:\n",
    "    sys.path.append(module_path)"
   ]
  },
  {
   "cell_type": "code",
   "execution_count": 3,
   "id": "5c1ee035",
   "metadata": {},
   "outputs": [],
   "source": [
    "from plotly.subplots import make_subplots\n",
    "import plotly.graph_objects as go\n",
    "from data.interface import data, DataInterface\n",
    "from support.constants import COLOR\n",
    "from ui.runtime_vars import RuntimeVars"
   ]
  },
  {
   "cell_type": "code",
   "execution_count": 9,
   "id": "13f294a5",
   "metadata": {},
   "outputs": [],
   "source": [
    "class Subplot:\n",
    "    def __init__(self, data: DataInterface, runtime_vars: RuntimeVars,\n",
    "                 show_legend: bool = False):\n",
    "        self.data = data\n",
    "        self.vars = runtime_vars\n",
    "        self._parsed = set()\n",
    "        self.fig = go.FigureWidget()\n",
    "        self._subplot_var = \"\"\n",
    "        self.show_legend = show_legend\n",
    "\n",
    "    @property\n",
    "    def subplot_var(self):\n",
    "        return self._subplot_var\n",
    "\n",
    "    @subplot_var.setter\n",
    "    def subplot_var(self, var: str):\n",
    "        self._subplot_var = var\n",
    "\n",
    "    def add_trace(self, county_code: str):\n",
    "        \"\"\" Adds a trace to the FigureWidget based on the county code. \"\"\"\n",
    "\n",
    "        data = self.data.county_yearly(county_code=county_code,\n",
    "                                  variable=self._subplot_var)\n",
    "        self.fig.add_scatter(x=data['Perioden'], y=data[self._subplot_var],\n",
    "                             name=county_code)\n",
    "\n",
    "    def remove_trace(self, county_code: str):\n",
    "        \"\"\" Adds a trace to the FigureWidget based on the county code. \"\"\"\n",
    "        idx = [i for i, v in enumerate(self.fig.data)\n",
    "               if v.name == county_code][0]\n",
    "        lst = list(self.fig.data)\n",
    "        lst.pop(idx)\n",
    "        self.fig.data = tuple(lst)\n",
    "\n",
    "    def update_traces(self):\n",
    "        \"\"\" Updates the figure based on the vars.selections. \"\"\"\n",
    "        present = set([i.name for i in self.fig.data])\n",
    "        left_over = list(present - self.vars.selections) + list(\n",
    "            self.vars.selections - present)\n",
    "\n",
    "        for i in left_over:\n",
    "            if left_over in list(present):\n",
    "                self.remove_trace(county_code=i)\n",
    "            else:\n",
    "                self.add_trace(county_code=i)\n",
    "\n",
    "    def plot(self):\n",
    "        fig = go.Figure()\n",
    "        for s in self.vars.selections:\n",
    "            data = self.data.county_yearly(county_code=s,\n",
    "                                           variable=self._subplot_var)\n",
    "            fig.add_scatter(x=data['Perioden'],\n",
    "                            y=data[self._subplot_var],\n",
    "                            name=data['RegioS'].iloc[0])\n",
    "        fig.update_layout(\n",
    "            height=150,\n",
    "            showlegend=self.show_legend,\n",
    "            legend=dict(orientation='h',\n",
    "                        yanchor=\"bottom\",\n",
    "                        y=1.02,\n",
    "                        xanchor=\"right\",\n",
    "                        x=1),\n",
    "            margin=dict(l=0, r=0, t=0, b=0)\n",
    "        )\n",
    "        return fig\n"
   ]
  },
  {
   "cell_type": "code",
   "execution_count": null,
   "id": "52554ef3",
   "metadata": {},
   "outputs": [],
   "source": []
  },
  {
   "cell_type": "code",
   "execution_count": 10,
   "id": "79171c00",
   "metadata": {},
   "outputs": [],
   "source": [
    "if __name__ == \"__main__\":\n",
    "    vars = RuntimeVars()\n",
    "    plot = Subplot(data=data, runtime_vars=vars)\n",
    "    vars.selections.add('GM0694')\n",
    "    vars.selections.add('GM1680')\n",
    "    plot.subplot_var = \"Bevolkingsgroei_79\"\n",
    "    fig = plot.plot()"
   ]
  },
  {
   "cell_type": "code",
   "execution_count": 11,
   "id": "7828ae5c",
   "metadata": {},
   "outputs": [
    {
     "data": {
      "application/vnd.jupyter.widget-view+json": {
       "model_id": "ee04acb490254af491e24b55d961cb72",
       "version_major": 2,
       "version_minor": 0
      },
      "text/plain": [
       "FigureWidget({\n",
       "    'data': [], 'layout': {'template': '...'}\n",
       "})"
      ]
     },
     "metadata": {},
     "output_type": "display_data"
    }
   ],
   "source": [
    "plot.fig"
   ]
  },
  {
   "cell_type": "code",
   "execution_count": 12,
   "id": "4697ea0b",
   "metadata": {},
   "outputs": [],
   "source": [
    "plot.update_traces()\n"
   ]
  },
  {
   "cell_type": "code",
   "execution_count": null,
   "id": "0bde6468",
   "metadata": {},
   "outputs": [],
   "source": []
  }
 ],
 "metadata": {
  "kernelspec": {
   "display_name": "Python 3",
   "language": "python",
   "name": "python3"
  },
  "language_info": {
   "codemirror_mode": {
    "name": "ipython",
    "version": 3
   },
   "file_extension": ".py",
   "mimetype": "text/x-python",
   "name": "python",
   "nbconvert_exporter": "python",
   "pygments_lexer": "ipython3",
   "version": "3.9.0"
  }
 },
 "nbformat": 4,
 "nbformat_minor": 5
}
