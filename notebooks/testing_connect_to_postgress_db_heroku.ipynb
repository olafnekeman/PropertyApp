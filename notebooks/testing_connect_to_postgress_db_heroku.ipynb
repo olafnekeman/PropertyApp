{
 "cells": [
  {
   "cell_type": "code",
   "execution_count": 1,
   "id": "5a30c476",
   "metadata": {},
   "outputs": [],
   "source": [
    "import os\n",
    "import sys\n",
    "module_path = os.path.abspath(os.path.join('..'))\n",
    "if module_path not in sys.path:\n",
    "    sys.path.append(module_path)\n"
   ]
  },
  {
   "cell_type": "code",
   "execution_count": 2,
   "id": "308c43d5",
   "metadata": {},
   "outputs": [],
   "source": [
    "from sqlalchemy import create_engine\n",
    "import psycopg2\n",
    "import pandas as pd"
   ]
  },
  {
   "cell_type": "code",
   "execution_count": 3,
   "id": "402fc57a",
   "metadata": {},
   "outputs": [
    {
     "name": "stdout",
     "output_type": "stream",
     "text": [
      "psycopg2 connection: <connection object at 0x0000025183E26370; dsn: 'user=xmukfffjuhnkpd password=xxx dbname=d91vcqu2u3tnnj host=ec2-54-74-77-126.eu-west-1.compute.amazonaws.com', closed: 0>\n"
     ]
    }
   ],
   "source": [
    "from data.interface import data\n",
    "from data.pg_connect import conn"
   ]
  },
  {
   "cell_type": "code",
   "execution_count": null,
   "id": "4a5ee2ea",
   "metadata": {},
   "outputs": [],
   "source": []
  },
  {
   "cell_type": "code",
   "execution_count": null,
   "id": "9853fd80",
   "metadata": {},
   "outputs": [],
   "source": []
  },
  {
   "cell_type": "code",
   "execution_count": 5,
   "id": "ce02b1b5",
   "metadata": {},
   "outputs": [],
   "source": [
    "conn = psycopg2.connect(\n",
    "    host=\"localhost\",\n",
    "    database=\"mylocaldb\",\n",
    "    user=\"olafn\",\n",
    "    password=\"Ootje1995\")"
   ]
  },
  {
   "cell_type": "code",
   "execution_count": null,
   "id": "a100655c",
   "metadata": {},
   "outputs": [],
   "source": []
  },
  {
   "cell_type": "code",
   "execution_count": 18,
   "id": "01444dd6",
   "metadata": {},
   "outputs": [],
   "source": [
    "cur = conn.cursor()"
   ]
  },
  {
   "cell_type": "code",
   "execution_count": null,
   "id": "44a6a4d3",
   "metadata": {},
   "outputs": [],
   "source": []
  },
  {
   "cell_type": "code",
   "execution_count": null,
   "id": "a44ab02c",
   "metadata": {},
   "outputs": [],
   "source": []
  },
  {
   "cell_type": "code",
   "execution_count": 4,
   "id": "ec93db2e",
   "metadata": {},
   "outputs": [
    {
     "name": "stdout",
     "output_type": "stream",
     "text": [
      "\n",
      "col_names_str: SELECT column_name FROM INFORMATION_SCHEMA.COLUMNS WHERE table_name = 'weather';\n",
      "\n",
      "col_names: [('San Francisco', 46, 50, 0.25, datetime.date(1994, 11, 27)), ('San Francisco', 43, 57, 0.0, datetime.date(1994, 11, 29)), ('Hayward', 37, 54, None, datetime.date(1994, 11, 29))]\n",
      "columns: [('San Francisco', 46, 50, 0.25, datetime.date(1994, 11, 27)), ('San Francisco', 43, 57, 0.0, datetime.date(1994, 11, 29)), ('Hayward', 37, 54, None, datetime.date(1994, 11, 29))]\n",
      "columns TYPE: <class 'list'>\n"
     ]
    }
   ],
   "source": [
    "from data.pg_connect import conn\n",
    "\n",
    "table=\"weather\" \n",
    "\n",
    "# declare an empty list for the column names\n",
    "columns = []\n",
    "\n",
    "# declare cursor objects from the connection    \n",
    "col_cursor = conn.cursor()\n",
    "\n",
    "# concatenate string for query to get column names\n",
    "# SELECT column_name FROM INFORMATION_SCHEMA.COLUMNS WHERE table_name = 'some_table';\n",
    "col_names_str = \"SELECT column_name FROM INFORMATION_SCHEMA.COLUMNS WHERE \"\n",
    "col_names_str += \"table_name = '{}';\".format( table )\n",
    "\n",
    "# print the SQL string\n",
    "print (\"\\ncol_names_str:\", col_names_str)\n",
    "\n",
    "query = \"SELECT table_name FROM information_schema.tables WHERE table_schema='public'\"\n",
    "query = \"SELECT * FROM weather\"\n",
    "try:\n",
    "#     sql_object = sql.SQL(\n",
    "#         # pass SQL statement to sql.SQL() method\n",
    "#         col_names_str\n",
    "#     ).format(\n",
    "#         # pass the identifier to the Identifier() method\n",
    "#         sql.Identifier( table )\n",
    "#     )\n",
    "\n",
    "    # execute the SQL string to get list with col names in a tuple\n",
    "    col_cursor.execute( query )\n",
    "\n",
    "    # get the tuple element from the liast\n",
    "    col_names = (col_cursor.fetchall() )\n",
    "\n",
    "    # print list of tuples with column names\n",
    "    print (\"\\ncol_names:\", col_names)\n",
    "\n",
    "    # iterate list of tuples and grab first element\n",
    "    for tup in col_names:\n",
    "\n",
    "        # append the col name string to the list\n",
    "        columns += [ tup[0] ]\n",
    "\n",
    "    # close the cursor object to prevent memory leaks\n",
    "    col_cursor.close()\n",
    "\n",
    "except Exception as err:\n",
    "    print (\"get_columns_names ERROR:\", err)\n",
    "\n",
    "\n",
    "# if the connection to PostgreSQL is valid\n",
    "if conn != None:\n",
    "\n",
    "    # pass a PostgreSQL string for the table name to the function\n",
    "\n",
    "    print (\"columns:\", col_names)\n",
    "    print (\"columns TYPE:\", type(col_names))"
   ]
  },
  {
   "cell_type": "code",
   "execution_count": 5,
   "id": "629b118c",
   "metadata": {},
   "outputs": [
    {
     "data": {
      "text/plain": [
       "[('San Francisco', 46, 50, 0.25, datetime.date(1994, 11, 27)),\n",
       " ('San Francisco', 43, 57, 0.0, datetime.date(1994, 11, 29)),\n",
       " ('Hayward', 37, 54, None, datetime.date(1994, 11, 29))]"
      ]
     },
     "execution_count": 5,
     "metadata": {},
     "output_type": "execute_result"
    }
   ],
   "source": [
    "query = \"SELECT * FROM weather\"\n",
    "cursor = conn.cursor()\n",
    "cursor.execute(query)\n",
    "cursor.fetchall()"
   ]
  },
  {
   "cell_type": "code",
   "execution_count": 6,
   "id": "f3f39526",
   "metadata": {},
   "outputs": [],
   "source": [
    "cursor.close()"
   ]
  },
  {
   "cell_type": "code",
   "execution_count": null,
   "id": "0fb9c59a",
   "metadata": {},
   "outputs": [],
   "source": []
  },
  {
   "cell_type": "code",
   "execution_count": null,
   "id": "e6c7617d",
   "metadata": {},
   "outputs": [],
   "source": []
  },
  {
   "cell_type": "code",
   "execution_count": null,
   "id": "4a68a2ce",
   "metadata": {},
   "outputs": [],
   "source": []
  }
 ],
 "metadata": {
  "kernelspec": {
   "display_name": "Python 3",
   "language": "python",
   "name": "python3"
  },
  "language_info": {
   "codemirror_mode": {
    "name": "ipython",
    "version": 3
   },
   "file_extension": ".py",
   "mimetype": "text/x-python",
   "name": "python",
   "nbconvert_exporter": "python",
   "pygments_lexer": "ipython3",
   "version": "3.9.0"
  }
 },
 "nbformat": 4,
 "nbformat_minor": 5
}
